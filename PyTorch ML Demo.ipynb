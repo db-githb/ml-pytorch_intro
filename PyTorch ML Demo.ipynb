{
 "cells": [
  {
   "cell_type": "markdown",
   "metadata": {
    "application/vnd.databricks.v1+cell": {
     "cellMetadata": {
      "byteLimit": 2048000,
      "rowLimit": 10000
     },
     "inputWidgets": {},
     "nuid": "e3543329-73ca-4c4d-9f4a-18edd6c0d72e",
     "showTitle": false,
     "title": ""
    }
   },
   "source": [
    "## General Overview\n",
    "\n",
    "Neural Networks approximate multidimensional functions like $W_1x_1+W_2x_2+W_3x_3 + b = p$.  The neural network learns the values of $W_1, W_2, W_3, b$.  Where $W_i$ are the weights of the equation, $b$ is the bias term of the equation, and $x_i$ is the input to the equation.\n",
    "\n",
    "To illustrate the training process lets walk through a simplified toy example:  we want the neural network to predict if the client will default on their credit card payments.  If the client defaults the network will output 1, if the client doesn't then it will output 0.  Let the client under question be a client that default i.e. is labelled 1.  If the neural net is working properly then $W_1x_1+W_2x_2+W_3x_3= 1$. Let the client be defined by 3 features (or variables) $x_1, x_2, x_3$. These features will be the last 3 statement payments: $x_1=300, x_2=200, x_3=100$.  The network initially guesses that $W_1=.0009, W_2=.0008, W_3=.0007$. This means the answer to $W_1x_1+W_2x_2+W_3x_3 = .0009 \\cdot 3-- + .0008 \\cdot 200 + .0007 \\cdot 100 = .46$. How close was that guess? Use a linear loss function by taking the difference between label of the client (1) and the networks guess (.46) thus 1-.46 = .54. This number (.54) is the error. You can use calculus to determine how much each weight contributed to the error. This is often called the gradient or the error signal.  You then adjust the weight by its contribution to minimize the error. You repeat this process hundreds or thousands of times for every client in the dataset. Eventually, the neural network learns to identify which clients default and which don't.\n",
    "\n",
    "Ultimately, we are trying to minimize our error i.e. our loss function.  In the above example, we used a linear loss function to calculate the error.  However, linear loss functions are not very effective because they do not penalize large errors well nor do they provide good error signals.  As a result, other loss functions are used such as the Mean Squared Error: $\\frac{1}{N}\\sum\\limits_{n=0}^{N}(y-\\hat{y})^2$ where $y$ is the label and \\hat{y}$ is the network output.  This loss function is quadratic and forms a curve:\n",
    "\n",
    "\n",
    "<img\n",
    "  src ='https://i.ibb.co/zRV9pXj/MSE-plot.png'\n",
    "  alt=\"MSE_plot.png\"\n",
    "  width=\"300\" \n",
    "  height=\"256\"\n",
    "/>\n",
    "\n",
    "The minimum of the MSE loss function is 0. The gradients are tangent functions and by taking the negative of the gradients they lead us to the minimum of the loss function.  Thus each gradient is a step towards the minimum:\n",
    "\n",
    "<img\n",
    "  src ='https://i.ibb.co/LrsW0HS/gradient-desc.png'\n",
    "  alt=\"gradient_desc.png\"\n",
    "  width=\"300\" \n",
    "  height=\"256\"\n",
    "/>\n",
    "\n",
    "Different loss functions may have different curves, for example:\n",
    "\n",
    "<img\n",
    "  src ='https://i.ibb.co/gZDbmv5/local-global.png'\n",
    "  alt=\"local_global.png\"\n",
    "  width=\"300\" \n",
    "  height=\"256\"\n",
    "/>\n",
    "\n",
    "Ideally, we find the global minimum but we could become trapped in local minimums instead.  Later in this notebook, we explore strategies for avoiding local minimum.\n",
    "\n",
    "\\* To simplify the example, we drop the bias term, $b$\n"
   ]
  },
  {
   "cell_type": "markdown",
   "metadata": {
    "application/vnd.databricks.v1+cell": {
     "cellMetadata": {
      "byteLimit": 2048000,
      "rowLimit": 10000
     },
     "inputWidgets": {},
     "nuid": "711d03a9-ff7c-4528-8874-547239efa0ae",
     "showTitle": false,
     "title": ""
    }
   },
   "source": [
    "## Import Libraries"
   ]
  },
  {
   "cell_type": "code",
   "execution_count": 1,
   "metadata": {
    "application/vnd.databricks.v1+cell": {
     "cellMetadata": {
      "byteLimit": 2048000,
      "rowLimit": 10000
     },
     "inputWidgets": {},
     "nuid": "437e20bf-7bf5-42df-b6ae-32cc39cf05a1",
     "showTitle": false,
     "title": ""
    }
   },
   "outputs": [],
   "source": [
    "# import libraries for data processing\n",
    "import pandas as pd\n",
    "import numpy as np\n",
    "from sklearn.model_selection import train_test_split\n",
    "\n",
    "# import libraries for training\n",
    "import torch\n",
    "import torch.nn as nn\n",
    "import torch.optim as optim\n",
    "from sklearn.model_selection import ParameterGrid\n",
    "from sklearn.preprocessing import StandardScaler\n",
    "from torch.utils.data import DataLoader, TensorDataset\n",
    "from tqdm.notebook import tqdm\n",
    "\n",
    "# set device variable according to availability of gpu\n",
    "device = torch.device(\"cuda\" if torch.cuda.is_available() else \"cpu\")"
   ]
  },
  {
   "cell_type": "markdown",
   "metadata": {
    "application/vnd.databricks.v1+cell": {
     "cellMetadata": {
      "byteLimit": 2048000,
      "rowLimit": 10000
     },
     "inputWidgets": {},
     "nuid": "3694ad02-6960-4f6d-9d93-726b0ff156b5",
     "showTitle": false,
     "title": ""
    }
   },
   "source": [
    "## Data Preprocessing\n",
    "\n",
    "This process consists of splitting the data into features (X) and labels (y).  The Neural Network learns to predict the labels from the features.\n",
    "Additionally, the data is split into train and test sets.  Test sets are used to evaluate the model.  The model should never see the test set until it is being evaluated.\n",
    "\n",
    "The data is normalized to ensure that all features contribute equally to the learning process.   This ensures that the model doesn't disproportionately favor certain features based on their scale or range.  Additionally, normalizing removes large outliers in the data.  Large outliers can distort the gradients during optimization, leading to instability or slow convergence during training. If features have extreme values, they can cause large weight updates that make it harder for the model to find a stable solution. By normalizing or removing outliers, the gradients during backpropagation become more stable, allowing the optimization algorithm (e.g., gradient descent) to converge more efficiently and effectively.\n",
    "\n",
    "Finally, dataLoader objects are created to handle batch processing during training and testing.  Batch processing divides the training data into smaller subsets (i.e. batches) instead of feeding the entire dataset to the model at once. These smaller batches are processed in iterations, where the model updates its parameters after each batch.  This iterative approach helps speed up training by allowing the model to make incremental adjustments.  Batch processing also introduces some noise into the training process because each batch represents only a small, random subset of the data.  The small, random subsets highlight different patterns or correlations in the data allowing the model to take different steps during gradient descent.  This variability allows the model to escape local minima and explore a broader region of the parameter space.  This helps prevents overfitting and creates a model with better generalization."
   ]
  },
  {
   "cell_type": "code",
   "execution_count": null,
   "metadata": {
    "application/vnd.databricks.v1+cell": {
     "cellMetadata": {
      "byteLimit": 2048000,
      "rowLimit": 10000
     },
     "inputWidgets": {},
     "nuid": "6a66a017-a376-4943-ae90-2d246bf7d5a1",
     "showTitle": false,
     "title": ""
    }
   },
   "outputs": [
    {
     "name": "stderr",
     "output_type": "stream",
     "text": [
      "Traceback (most recent call last):\n",
      "  File \"_pydevd_bundle/pydevd_cython.pyx\", line 1078, in _pydevd_bundle.pydevd_cython.PyDBFrame.trace_dispatch\n",
      "  File \"_pydevd_bundle/pydevd_cython.pyx\", line 297, in _pydevd_bundle.pydevd_cython.PyDBFrame.do_wait_suspend\n",
      "  File \"c:\\ProgramData\\Anaconda3\\lib\\site-packages\\debugpy\\_vendored\\pydevd\\pydevd.py\", line 1976, in do_wait_suspend\n",
      "    keep_suspended = self._do_wait_suspend(thread, frame, event, arg, suspend_type, from_this_thread, frames_tracker)\n",
      "  File \"c:\\ProgramData\\Anaconda3\\lib\\site-packages\\debugpy\\_vendored\\pydevd\\pydevd.py\", line 2011, in _do_wait_suspend\n",
      "    time.sleep(0.01)\n",
      "KeyboardInterrupt\n"
     ]
    },
    {
     "ename": "KeyboardInterrupt",
     "evalue": "",
     "output_type": "error",
     "traceback": [
      "\u001b[1;31m---------------------------------------------------------------------------\u001b[0m",
      "\u001b[1;31mKeyboardInterrupt\u001b[0m                         Traceback (most recent call last)",
      "\u001b[1;32m~\\AppData\\Local\\Temp\\ipykernel_7800\\1068345022.py\u001b[0m in \u001b[0;36m<module>\u001b[1;34m\u001b[0m\n\u001b[0;32m     25\u001b[0m \u001b[1;33m\u001b[0m\u001b[0m\n\u001b[0;32m     26\u001b[0m \u001b[1;31m# normalize data\u001b[0m\u001b[1;33m\u001b[0m\u001b[1;33m\u001b[0m\u001b[0m\n\u001b[1;32m---> 27\u001b[1;33m \u001b[0mscaler\u001b[0m \u001b[1;33m=\u001b[0m \u001b[0mStandardScaler\u001b[0m\u001b[1;33m(\u001b[0m\u001b[1;33m)\u001b[0m\u001b[1;33m\u001b[0m\u001b[1;33m\u001b[0m\u001b[0m\n\u001b[0m\u001b[0;32m     28\u001b[0m \u001b[0mX_train_scaled\u001b[0m \u001b[1;33m=\u001b[0m \u001b[0mscaler\u001b[0m\u001b[1;33m.\u001b[0m\u001b[0mfit_transform\u001b[0m\u001b[1;33m(\u001b[0m\u001b[0mX_train\u001b[0m\u001b[1;33m)\u001b[0m\u001b[1;33m\u001b[0m\u001b[1;33m\u001b[0m\u001b[0m\n\u001b[0;32m     29\u001b[0m \u001b[0mX_test_scaled\u001b[0m \u001b[1;33m=\u001b[0m \u001b[0mscaler\u001b[0m\u001b[1;33m.\u001b[0m\u001b[0mtransform\u001b[0m\u001b[1;33m(\u001b[0m\u001b[0mX_test\u001b[0m\u001b[1;33m)\u001b[0m\u001b[1;33m\u001b[0m\u001b[1;33m\u001b[0m\u001b[0m\n",
      "\u001b[1;32m~\\AppData\\Local\\Temp\\ipykernel_7800\\1068345022.py\u001b[0m in \u001b[0;36m<module>\u001b[1;34m\u001b[0m\n\u001b[0;32m     25\u001b[0m \u001b[1;33m\u001b[0m\u001b[0m\n\u001b[0;32m     26\u001b[0m \u001b[1;31m# normalize data\u001b[0m\u001b[1;33m\u001b[0m\u001b[1;33m\u001b[0m\u001b[0m\n\u001b[1;32m---> 27\u001b[1;33m \u001b[0mscaler\u001b[0m \u001b[1;33m=\u001b[0m \u001b[0mStandardScaler\u001b[0m\u001b[1;33m(\u001b[0m\u001b[1;33m)\u001b[0m\u001b[1;33m\u001b[0m\u001b[1;33m\u001b[0m\u001b[0m\n\u001b[0m\u001b[0;32m     28\u001b[0m \u001b[0mX_train_scaled\u001b[0m \u001b[1;33m=\u001b[0m \u001b[0mscaler\u001b[0m\u001b[1;33m.\u001b[0m\u001b[0mfit_transform\u001b[0m\u001b[1;33m(\u001b[0m\u001b[0mX_train\u001b[0m\u001b[1;33m)\u001b[0m\u001b[1;33m\u001b[0m\u001b[1;33m\u001b[0m\u001b[0m\n\u001b[0;32m     29\u001b[0m \u001b[0mX_test_scaled\u001b[0m \u001b[1;33m=\u001b[0m \u001b[0mscaler\u001b[0m\u001b[1;33m.\u001b[0m\u001b[0mtransform\u001b[0m\u001b[1;33m(\u001b[0m\u001b[0mX_test\u001b[0m\u001b[1;33m)\u001b[0m\u001b[1;33m\u001b[0m\u001b[1;33m\u001b[0m\u001b[0m\n",
      "\u001b[1;32m_pydevd_bundle/pydevd_cython.pyx\u001b[0m in \u001b[0;36m_pydevd_bundle.pydevd_cython.SafeCallWrapper.__call__\u001b[1;34m()\u001b[0m\n",
      "\u001b[1;32m_pydevd_bundle/pydevd_cython.pyx\u001b[0m in \u001b[0;36m_pydevd_bundle.pydevd_cython.PyDBFrame.trace_dispatch\u001b[1;34m()\u001b[0m\n",
      "\u001b[1;32m_pydevd_bundle/pydevd_cython.pyx\u001b[0m in \u001b[0;36m_pydevd_bundle.pydevd_cython.PyDBFrame.trace_dispatch\u001b[1;34m()\u001b[0m\n",
      "\u001b[1;32m_pydevd_bundle/pydevd_cython.pyx\u001b[0m in \u001b[0;36m_pydevd_bundle.pydevd_cython.PyDBFrame.trace_dispatch\u001b[1;34m()\u001b[0m\n",
      "\u001b[1;32m_pydevd_bundle/pydevd_cython.pyx\u001b[0m in \u001b[0;36m_pydevd_bundle.pydevd_cython.PyDBFrame.do_wait_suspend\u001b[1;34m()\u001b[0m\n",
      "\u001b[1;32mc:\\ProgramData\\Anaconda3\\lib\\site-packages\\debugpy\\_vendored\\pydevd\\pydevd.py\u001b[0m in \u001b[0;36mdo_wait_suspend\u001b[1;34m(self, thread, frame, event, arg, exception_type)\u001b[0m\n\u001b[0;32m   1974\u001b[0m \u001b[1;33m\u001b[0m\u001b[0m\n\u001b[0;32m   1975\u001b[0m             \u001b[1;32mwith\u001b[0m \u001b[0mself\u001b[0m\u001b[1;33m.\u001b[0m\u001b[0m_threads_suspended_single_notification\u001b[0m\u001b[1;33m.\u001b[0m\u001b[0mnotify_thread_suspended\u001b[0m\u001b[1;33m(\u001b[0m\u001b[0mthread_id\u001b[0m\u001b[1;33m,\u001b[0m \u001b[0mstop_reason\u001b[0m\u001b[1;33m)\u001b[0m\u001b[1;33m:\u001b[0m\u001b[1;33m\u001b[0m\u001b[1;33m\u001b[0m\u001b[0m\n\u001b[1;32m-> 1976\u001b[1;33m                 \u001b[0mkeep_suspended\u001b[0m \u001b[1;33m=\u001b[0m \u001b[0mself\u001b[0m\u001b[1;33m.\u001b[0m\u001b[0m_do_wait_suspend\u001b[0m\u001b[1;33m(\u001b[0m\u001b[0mthread\u001b[0m\u001b[1;33m,\u001b[0m \u001b[0mframe\u001b[0m\u001b[1;33m,\u001b[0m \u001b[0mevent\u001b[0m\u001b[1;33m,\u001b[0m \u001b[0marg\u001b[0m\u001b[1;33m,\u001b[0m \u001b[0msuspend_type\u001b[0m\u001b[1;33m,\u001b[0m \u001b[0mfrom_this_thread\u001b[0m\u001b[1;33m,\u001b[0m \u001b[0mframes_tracker\u001b[0m\u001b[1;33m)\u001b[0m\u001b[1;33m\u001b[0m\u001b[1;33m\u001b[0m\u001b[0m\n\u001b[0m\u001b[0;32m   1977\u001b[0m \u001b[1;33m\u001b[0m\u001b[0m\n\u001b[0;32m   1978\u001b[0m         \u001b[0mframes_list\u001b[0m \u001b[1;33m=\u001b[0m \u001b[1;32mNone\u001b[0m\u001b[1;33m\u001b[0m\u001b[1;33m\u001b[0m\u001b[0m\n",
      "\u001b[1;32mc:\\ProgramData\\Anaconda3\\lib\\site-packages\\debugpy\\_vendored\\pydevd\\pydevd.py\u001b[0m in \u001b[0;36m_do_wait_suspend\u001b[1;34m(self, thread, frame, event, arg, suspend_type, from_this_thread, frames_tracker)\u001b[0m\n\u001b[0;32m   2009\u001b[0m \u001b[1;33m\u001b[0m\u001b[0m\n\u001b[0;32m   2010\u001b[0m             \u001b[0mself\u001b[0m\u001b[1;33m.\u001b[0m\u001b[0mprocess_internal_commands\u001b[0m\u001b[1;33m(\u001b[0m\u001b[1;33m)\u001b[0m\u001b[1;33m\u001b[0m\u001b[1;33m\u001b[0m\u001b[0m\n\u001b[1;32m-> 2011\u001b[1;33m             \u001b[0mtime\u001b[0m\u001b[1;33m.\u001b[0m\u001b[0msleep\u001b[0m\u001b[1;33m(\u001b[0m\u001b[1;36m0.01\u001b[0m\u001b[1;33m)\u001b[0m\u001b[1;33m\u001b[0m\u001b[1;33m\u001b[0m\u001b[0m\n\u001b[0m\u001b[0;32m   2012\u001b[0m \u001b[1;33m\u001b[0m\u001b[0m\n\u001b[0;32m   2013\u001b[0m         \u001b[0mself\u001b[0m\u001b[1;33m.\u001b[0m\u001b[0mcancel_async_evaluation\u001b[0m\u001b[1;33m(\u001b[0m\u001b[0mget_current_thread_id\u001b[0m\u001b[1;33m(\u001b[0m\u001b[0mthread\u001b[0m\u001b[1;33m)\u001b[0m\u001b[1;33m,\u001b[0m \u001b[0mstr\u001b[0m\u001b[1;33m(\u001b[0m\u001b[0mid\u001b[0m\u001b[1;33m(\u001b[0m\u001b[0mframe\u001b[0m\u001b[1;33m)\u001b[0m\u001b[1;33m)\u001b[0m\u001b[1;33m)\u001b[0m\u001b[1;33m\u001b[0m\u001b[1;33m\u001b[0m\u001b[0m\n",
      "\u001b[1;31mKeyboardInterrupt\u001b[0m: "
     ]
    }
   ],
   "source": [
    "using_databricks = False\n",
    "test_size = 0.2\n",
    "seed = 0\n",
    "\n",
    "if using_databricks:\n",
    "    # read csv file with PySpark\n",
    "    df_spark = spark.read.format(\"csv\").option(\"header\", \"true\").option(\"inferSchema\", \"true\").option(\"sep\", \",\").load(\"/FileStore/tables/default_of_credit_card_clients-5.csv\")\n",
    "\n",
    "    # transform from PySpark dataframe -> pandas dataframe -> numpy array (see documentation: pyspark.pandas.DataFrame.to_numpy)\n",
    "    data = df_spark.toPandas().to_numpy()\n",
    "\n",
    "    # create train and test sets\n",
    "    X, y = data[:, 1:-1], data[:, -1] #Drop ID col, last col is y, rest is X.\n",
    "else:\n",
    "    from ucimlrepo import fetch_ucirepo \n",
    "  \n",
    "    # fetch dataset \n",
    "    default_of_credit_card_clients = fetch_ucirepo(id=350) \n",
    "    \n",
    "    # data (as pandas dataframes) \n",
    "    X = default_of_credit_card_clients.data.features.to_numpy() \n",
    "    y = default_of_credit_card_clients.data.targets.to_numpy() \n",
    "\n",
    "X_train, X_test, y_train, y_test = train_test_split(X, y, test_size=test_size, random_state=seed)\n",
    "y_train, y_test = y_train.squeeze(-1), y_test.squeeze(-1)\n",
    "# normalize data\n",
    "scaler = StandardScaler()\n",
    "X_train_scaled = scaler.fit_transform(X_train)\n",
    "X_test_scaled = scaler.transform(X_test)\n",
    "\n",
    "# convert data to PyTorch tensors (TODO: find method to go from PySpark dataframe to Torch tensor directly)\n",
    "X_train_tensor = torch.tensor(X_train_scaled, dtype=torch.float32).to(device)\n",
    "y_train_tensor = torch.tensor(y_train, dtype=torch.long).to(device)\n",
    "X_test_tensor = torch.tensor(X_test_scaled, dtype=torch.float32).to(device)\n",
    "y_test_tensor = torch.tensor(y_test, dtype=torch.long).to(device)\n",
    "\n",
    "train_dataset = TensorDataset(X_train_tensor, y_train_tensor)\n",
    "test_dataset = TensorDataset(X_test_tensor, y_test_tensor)\n",
    "\n",
    "train_loader = DataLoader(train_dataset, batch_size=100, shuffle=True)\n",
    "test_loader = DataLoader(test_dataset, batch_size=100, shuffle=False)"
   ]
  },
  {
   "cell_type": "markdown",
   "metadata": {
    "application/vnd.databricks.v1+cell": {
     "cellMetadata": {
      "byteLimit": 2048000,
      "rowLimit": 10000
     },
     "inputWidgets": {},
     "nuid": "ec5b7b10-a652-4044-a812-82ab133c5444",
     "showTitle": false,
     "title": ""
    }
   },
   "source": [
    "## Define the Model\n",
    "\n",
    "In this working example, the Multi-Layer Perceptrons (MLP) will be a flexible model, constructed dynamically, that can handle different numbers of hidden layers and hidden neurons. The model will also use either ReLU or Tanh as the activation function between layers.\n",
    "\n",
    "### Model Layers\n",
    "The MLP consist of 3 layers: input, hidden, and output with activation functions in between each layer.\n",
    "\n",
    "<img\n",
    "  src ='https://i.ibb.co/DMJKNR0/mlp-diag.png'\n",
    "  alt=\"local_global.png\"\n",
    "  width=\"484\" \n",
    "  height=\"206\"\n",
    "/>\n",
    "\n",
    "#### Input Layer\n",
    "The input layer recieves the data.  Its size (i.e. number of neurons) corresponds to the number of features in the data.  This determines how much information is provided to the network.  The network cannot process more than it is given so each input feature should represent some meaningful aspect of the data for the model to learn effectively.  For this working example, the data has 24 features therefore the input layer will have 24 neurons.\n",
    "\n",
    "#### Hidden Layer\n",
    "The hidden layers sit between the input and output layers.  The weights and biases of the hidden layers capture and model the complex patterns and interactions in the data.  The number of hidden layers and the number of neurons in each layer can vary.  However, if the hidden layers are too small (too few neurons), the model might not have enough capacity to capture complex patterns. On the other hand, if the hidden layers are too large (too many neurons), the network may overfit, meaning it will learn to model the training data very well but might not generalize to new, unseen data.  The number of layers describes how \"deep\" the model is.  Today, \"deep learning\" models consists of 1000+ layers, however, in theory, it is any model with more than 3 layers.\n",
    "\n",
    "In this working example, we experiment with different hidden layer sizes allowing us to explore different model capacities and find the best trade-off between underfitting and overfitting:\n",
    "\n",
    "**Baseline** model is a linear mapping between the input and the output with no hidden layers.  If it performs poorly it demonstrates a need for additional non-linearity.\n",
    "\n",
    "**Average of the input features and output labels** presents a balanced paradigm, where the hidden layer size is large enough to capture some complexity but not too large to risk overfitting. It's often a reasonable first guess when exploring MLP architectures because it creates a middle ground between a small and large hidden layer, providing some capacity to model non-linearities without making the model too complex.\n",
    "\n",
    "**Hidden layer < input layer** forced the model to generalize better by limiting its capacity. If the problem doesn't require a large number of neurons to learn patterns effectively, reducing the hidden layer size can prevent overfitting and lead to faster training and better generalization to new data. This size also reflects the assumption that the output is simpler than the input data, as it represents a slightly reduced complexity.\n",
    "\n",
    "**Hidden layer > input layer** increases the model’s capacity to learn more complex patterns. This can be helpful if the data is highly non-linear or has intricate relationships between the features and the target labels. A larger hidden layer gives the model more flexibility, but it also increases the risk of overfitting, especially if the dataset is small or noisy. This experiment tests whether the model benefits from increased complexity and capacity, or if it struggles with overfitting.\n",
    "\n",
    "#### Output Layer\n",
    "The output layer is the final layer of the neural networ that produces the predictions.  The number of neurons in the output layer corresponds to the number of possible outputs or classes.  This working example is a binary classification problem therefore the output layer will have 2 neurons.\n",
    "\n",
    "### Activation Functions\n",
    "\n",
    "The activation functions introduce non-linearity to the network.  Each layer represents lineary matrix arithmetic Ax+b=y where A is the layer weights, x is the input, b the layer bias and y the output.  If there are two layers, layer 1: $A_1x_1 + b_1 = y_1$ and layer 2: $A_2 x_2 + b_2 = y_2$.  If the output of layer 1 is the input to layer 2 then layer 2 becomes $A_2 x_2 + b_2 = A_2 (A_1 x_1 + b_1) + b_2 = y_2$ which collapses back into the linear equation Ax+b$.  However, wrapping layer outputs in a non-linear function such as a sigmoid prevents this.  In this working example, we will experiment with two common activation functions, Rectified Linear Unit (ReLU) and Tanh. \n",
    "\n",
    "**ReLU** is a computationally efficient activation function because it is a simple thresholding operation with the beneficial property of producing sparse activations that reduces the computational load of the model (i.e. only a portion of the neurons are activated (non-zero) at any given time).  However, the sparsity can also be a drawback because neuron's can \"die\" i.e. get stuck output zero for all inputs if the weights are not properly adjusted.  Additionally, the ReLU function is unbounded which means that large values can pass through leading to numerical instability.\n",
    "\n",
    "**Tanh** has a bounded output between -1 and 1 which helps mitigate extreme values.  This makes it suitable for deep learning however this bounded output can lead to a vanishing gradient for extreme values which slow covergence."
   ]
  },
  {
   "cell_type": "code",
   "execution_count": 9,
   "metadata": {
    "application/vnd.databricks.v1+cell": {
     "cellMetadata": {
      "byteLimit": 2048000,
      "rowLimit": 10000
     },
     "inputWidgets": {},
     "nuid": "27ed65ac-3203-4f53-9c10-52f5d0e41b59",
     "showTitle": false,
     "title": ""
    }
   },
   "outputs": [],
   "source": [
    "# this will be saved in the hyperparameter grid later\n",
    "x_features = X_train.shape[1]\n",
    "y_labels = y_train.shape[0]\n",
    "\n",
    "hidden_layer_list = [\n",
    "        [],\n",
    "        [int((x_features + y_labels) / 2)],\n",
    "        [int(x_features * 2 / 3 + y_labels)],\n",
    "        [int(x_features * 3 / 2)],\n",
    "    ]\n",
    "\n",
    "# Define the MLP Model\n",
    "class MLP(nn.Module):\n",
    "    def __init__(self, input_size, hidden_layer_sizes, output_size, activation='relu'):\n",
    "        super(MLP, self).__init__()\n",
    "        layers = []\n",
    "        \n",
    "        # Input Layer\n",
    "        prev_size = input_size\n",
    "\n",
    "        # Hidden Layer(s)\n",
    "        for hidden_size in hidden_layer_sizes:\n",
    "            layers.append(nn.Linear(prev_size, hidden_size))\n",
    "            if activation == 'relu':\n",
    "                layers.append(nn.ReLU())\n",
    "            elif activation == 'tanh':\n",
    "                layers.append(nn.Tanh())\n",
    "            prev_size = hidden_size\n",
    "\n",
    "        # Output Layer\n",
    "        layers.append(nn.Linear(prev_size, output_size))\n",
    "        \n",
    "        self.model = nn.Sequential(*layers)\n",
    "    \n",
    "    def forward(self, x):\n",
    "        return self.model(x)"
   ]
  },
  {
   "cell_type": "markdown",
   "metadata": {
    "application/vnd.databricks.v1+cell": {
     "cellMetadata": {
      "byteLimit": 2048000,
      "rowLimit": 10000
     },
     "inputWidgets": {},
     "nuid": "d2b4536b-3d54-4f0d-8db2-8fb1a2d9151e",
     "showTitle": false,
     "title": ""
    }
   },
   "source": [
    "## Define Train and Evaluate Function"
   ]
  },
  {
   "cell_type": "code",
   "execution_count": 10,
   "metadata": {
    "application/vnd.databricks.v1+cell": {
     "cellMetadata": {
      "byteLimit": 2048000,
      "rowLimit": 10000
     },
     "inputWidgets": {},
     "nuid": "21379caa-2304-472a-a302-c61191d4e2f7",
     "showTitle": false,
     "title": ""
    }
   },
   "outputs": [],
   "source": [
    "def train_model(model, optimizer, criterion, train_loader, num_epochs=100):\n",
    "    model.train()\n",
    "    for epoch in tqdm(range(num_epochs), desc=\"Epochs\"):\n",
    "        #running_loss = 0.0\n",
    "        for X_batch, y_batch in train_loader:\n",
    "            optimizer.zero_grad()\n",
    "            outputs = model(X_batch)\n",
    "            loss = criterion(outputs, y_batch)\n",
    "            loss.backward()\n",
    "            optimizer.step()\n",
    "        #  running_loss += loss.item() - used to chart loss during training\n",
    "\n",
    "def evaluate_model(model, criterion, data_loader):\n",
    "    model.eval()\n",
    "    total_loss = 0\n",
    "    correct = 0\n",
    "    outputs_total = []\n",
    "    with torch.no_grad():\n",
    "        for X_batch, y_batch in data_loader:\n",
    "            outputs = model(X_batch)\n",
    "            loss = criterion(outputs, y_batch)\n",
    "            total_loss += loss.item()\n",
    "            preds = torch.argmax(outputs, dim=1)\n",
    "            correct += (preds == y_batch).sum().item()\n",
    "            outputs_total.extend(preds.flatten().tolist())\n",
    "    return total_loss / len(data_loader), correct / len(data_loader.dataset), outputs_total"
   ]
  },
  {
   "cell_type": "markdown",
   "metadata": {
    "application/vnd.databricks.v1+cell": {
     "cellMetadata": {
      "byteLimit": 2048000,
      "rowLimit": 10000
     },
     "inputWidgets": {},
     "nuid": "759f28dd-1d3d-42b1-b121-f3397c3bc7f6",
     "showTitle": false,
     "title": ""
    }
   },
   "source": [
    "## Define Hyperparameters\n",
    "\n",
    "### Learning Rate\n",
    "Scales the modification made to the models weight by the gradient.  In other words, the leraning rate defines how large a step is made in the direction that minimizes the error.  Smaller learning rates allow for finer adjustments and more precise convergence.  However, it can lead slower training with the risk of getting stuck in suboptimal local minima.  Large training rates lead to faster covergence but they can overshoot the optimal solution causing the model to oscilate around the minimum failing to converge and leading to unstable training.  Generally, adaptive learning rates are used where larger learning rates are used at the beginning of the training and smaller learning rates at the end.\n",
    "\n",
    "### Regularization\n",
    "Prevent overfitting by adding a penalty to the loss function based on the size of the weights, encouraging the model to keep the weights small. This helps to simplify the model and reduce its complexity, making it more likely to generalize well to new, unseen data.\n",
    "\n",
    "### Momentum\n",
    "Accumulates past gradient information to build up speed in the direction that reduces the loss function, while dampening oscillations in directions that are less important. This can lead to faster convergence, particularly in scenarios where the loss function has narrow, steep valleys and wide flat regions, or when there are noisy gradients.  A common value used is .9 because it allows more of the previous gradients to be retained. This helps the optimizer push through shallow areas of the loss function and speed up convergence.\n",
    "\n",
    "### Epoch\n",
    "Refers to one complete pass through the entire training dataset during the training process."
   ]
  },
  {
   "cell_type": "code",
   "execution_count": 11,
   "metadata": {
    "application/vnd.databricks.v1+cell": {
     "cellMetadata": {
      "byteLimit": 2048000,
      "rowLimit": 10000
     },
     "inputWidgets": {},
     "nuid": "a4affb3c-161f-4007-8d7a-48fb329016bf",
     "showTitle": false,
     "title": ""
    }
   },
   "outputs": [],
   "source": [
    "# Hyperparameter grid\n",
    "\n",
    "# Use this if you want to experiment with different hyper parameter configurations\n",
    "#param_grid = {\n",
    "#    \"learning_rate_init\": np.logspace(-3, -1, 3),\n",
    "#    \"alpha\": np.logspace(-4, -2, 3),\n",
    "#    \"activation\": ['relu', 'tanh'],\n",
    "#    \"hidden_layer_sizes\": hidden_layer_list\n",
    "#}\n",
    "\n",
    "# param grid to train a single model\n",
    "param_grid = {\n",
    "    \"learning_rate_init\": np.array(0.001),\n",
    "    \"alpha\": np.array(0),\n",
    "    \"activation\": ['tanh'],\n",
    "    \"hidden_layer_sizes\": [int((x_features + y_labels) / 2)]\n",
    "}\n",
    "\n",
    "momentum = 0.9\n",
    "num_epochs = 500"
   ]
  },
  {
   "cell_type": "markdown",
   "metadata": {
    "application/vnd.databricks.v1+cell": {
     "cellMetadata": {
      "byteLimit": 2048000,
      "rowLimit": 10000
     },
     "inputWidgets": {},
     "nuid": "ec5b7e67-fed9-4e09-a70c-c76ffe039a4d",
     "showTitle": false,
     "title": ""
    }
   },
   "source": [
    "## Train Loop"
   ]
  },
  {
   "cell_type": "code",
   "execution_count": 12,
   "metadata": {
    "application/vnd.databricks.v1+cell": {
     "cellMetadata": {
      "byteLimit": 2048000,
      "rowLimit": 10000
     },
     "inputWidgets": {},
     "nuid": "8a8db30c-8e62-4f42-90c5-4d6ffab2f46a",
     "showTitle": false,
     "title": ""
    }
   },
   "outputs": [
    {
     "data": {
      "application/vnd.jupyter.widget-view+json": {
       "model_id": "9e2a9e51f4ec4d1ea29f8f0d0f0f7c69",
       "version_major": 2,
       "version_minor": 0
      },
      "text/plain": [
       "Epochs:   0%|          | 0/500 [00:00<?, ?it/s]"
      ]
     },
     "metadata": {},
     "output_type": "display_data"
    },
    {
     "ename": "RuntimeError",
     "evalue": "0D or 1D target tensor expected, multi-target not supported",
     "output_type": "error",
     "traceback": [
      "\u001b[1;31m---------------------------------------------------------------------------\u001b[0m",
      "\u001b[1;31mRuntimeError\u001b[0m                              Traceback (most recent call last)",
      "\u001b[1;32m~\\AppData\\Local\\Temp\\ipykernel_7800\\619851276.py\u001b[0m in \u001b[0;36m<module>\u001b[1;34m\u001b[0m\n\u001b[0;32m     16\u001b[0m \u001b[1;33m\u001b[0m\u001b[0m\n\u001b[0;32m     17\u001b[0m     \u001b[1;31m# Train the model\u001b[0m\u001b[1;33m\u001b[0m\u001b[1;33m\u001b[0m\u001b[0m\n\u001b[1;32m---> 18\u001b[1;33m     \u001b[0mtrain_model\u001b[0m\u001b[1;33m(\u001b[0m\u001b[0mmodel\u001b[0m\u001b[1;33m,\u001b[0m \u001b[0moptimizer\u001b[0m\u001b[1;33m,\u001b[0m \u001b[0mcriterion\u001b[0m\u001b[1;33m,\u001b[0m \u001b[0mtrain_loader\u001b[0m\u001b[1;33m,\u001b[0m \u001b[0mnum_epochs\u001b[0m\u001b[1;33m=\u001b[0m\u001b[0mnum_epochs\u001b[0m\u001b[1;33m)\u001b[0m\u001b[1;33m\u001b[0m\u001b[1;33m\u001b[0m\u001b[0m\n\u001b[0m\u001b[0;32m     19\u001b[0m \u001b[1;33m\u001b[0m\u001b[0m\n\u001b[0;32m     20\u001b[0m     \u001b[1;31m# Evaluate on test set\u001b[0m\u001b[1;33m\u001b[0m\u001b[1;33m\u001b[0m\u001b[0m\n",
      "\u001b[1;32m~\\AppData\\Local\\Temp\\ipykernel_7800\\2400476093.py\u001b[0m in \u001b[0;36mtrain_model\u001b[1;34m(model, optimizer, criterion, train_loader, num_epochs)\u001b[0m\n\u001b[0;32m      6\u001b[0m             \u001b[0moptimizer\u001b[0m\u001b[1;33m.\u001b[0m\u001b[0mzero_grad\u001b[0m\u001b[1;33m(\u001b[0m\u001b[1;33m)\u001b[0m\u001b[1;33m\u001b[0m\u001b[1;33m\u001b[0m\u001b[0m\n\u001b[0;32m      7\u001b[0m             \u001b[0moutputs\u001b[0m \u001b[1;33m=\u001b[0m \u001b[0mmodel\u001b[0m\u001b[1;33m(\u001b[0m\u001b[0mX_batch\u001b[0m\u001b[1;33m)\u001b[0m\u001b[1;33m\u001b[0m\u001b[1;33m\u001b[0m\u001b[0m\n\u001b[1;32m----> 8\u001b[1;33m             \u001b[0mloss\u001b[0m \u001b[1;33m=\u001b[0m \u001b[0mcriterion\u001b[0m\u001b[1;33m(\u001b[0m\u001b[0moutputs\u001b[0m\u001b[1;33m,\u001b[0m \u001b[0my_batch\u001b[0m\u001b[1;33m)\u001b[0m\u001b[1;33m\u001b[0m\u001b[1;33m\u001b[0m\u001b[0m\n\u001b[0m\u001b[0;32m      9\u001b[0m             \u001b[0mloss\u001b[0m\u001b[1;33m.\u001b[0m\u001b[0mbackward\u001b[0m\u001b[1;33m(\u001b[0m\u001b[1;33m)\u001b[0m\u001b[1;33m\u001b[0m\u001b[1;33m\u001b[0m\u001b[0m\n\u001b[0;32m     10\u001b[0m             \u001b[0moptimizer\u001b[0m\u001b[1;33m.\u001b[0m\u001b[0mstep\u001b[0m\u001b[1;33m(\u001b[0m\u001b[1;33m)\u001b[0m\u001b[1;33m\u001b[0m\u001b[1;33m\u001b[0m\u001b[0m\n",
      "\u001b[1;32m~\\AppData\\Roaming\\Python\\Python39\\site-packages\\torch\\nn\\modules\\module.py\u001b[0m in \u001b[0;36m_wrapped_call_impl\u001b[1;34m(self, *args, **kwargs)\u001b[0m\n\u001b[0;32m   1516\u001b[0m             \u001b[1;32mreturn\u001b[0m \u001b[0mself\u001b[0m\u001b[1;33m.\u001b[0m\u001b[0m_compiled_call_impl\u001b[0m\u001b[1;33m(\u001b[0m\u001b[1;33m*\u001b[0m\u001b[0margs\u001b[0m\u001b[1;33m,\u001b[0m \u001b[1;33m**\u001b[0m\u001b[0mkwargs\u001b[0m\u001b[1;33m)\u001b[0m  \u001b[1;31m# type: ignore[misc]\u001b[0m\u001b[1;33m\u001b[0m\u001b[1;33m\u001b[0m\u001b[0m\n\u001b[0;32m   1517\u001b[0m         \u001b[1;32melse\u001b[0m\u001b[1;33m:\u001b[0m\u001b[1;33m\u001b[0m\u001b[1;33m\u001b[0m\u001b[0m\n\u001b[1;32m-> 1518\u001b[1;33m             \u001b[1;32mreturn\u001b[0m \u001b[0mself\u001b[0m\u001b[1;33m.\u001b[0m\u001b[0m_call_impl\u001b[0m\u001b[1;33m(\u001b[0m\u001b[1;33m*\u001b[0m\u001b[0margs\u001b[0m\u001b[1;33m,\u001b[0m \u001b[1;33m**\u001b[0m\u001b[0mkwargs\u001b[0m\u001b[1;33m)\u001b[0m\u001b[1;33m\u001b[0m\u001b[1;33m\u001b[0m\u001b[0m\n\u001b[0m\u001b[0;32m   1519\u001b[0m \u001b[1;33m\u001b[0m\u001b[0m\n\u001b[0;32m   1520\u001b[0m     \u001b[1;32mdef\u001b[0m \u001b[0m_call_impl\u001b[0m\u001b[1;33m(\u001b[0m\u001b[0mself\u001b[0m\u001b[1;33m,\u001b[0m \u001b[1;33m*\u001b[0m\u001b[0margs\u001b[0m\u001b[1;33m,\u001b[0m \u001b[1;33m**\u001b[0m\u001b[0mkwargs\u001b[0m\u001b[1;33m)\u001b[0m\u001b[1;33m:\u001b[0m\u001b[1;33m\u001b[0m\u001b[1;33m\u001b[0m\u001b[0m\n",
      "\u001b[1;32m~\\AppData\\Roaming\\Python\\Python39\\site-packages\\torch\\nn\\modules\\module.py\u001b[0m in \u001b[0;36m_call_impl\u001b[1;34m(self, *args, **kwargs)\u001b[0m\n\u001b[0;32m   1525\u001b[0m                 \u001b[1;32mor\u001b[0m \u001b[0m_global_backward_pre_hooks\u001b[0m \u001b[1;32mor\u001b[0m \u001b[0m_global_backward_hooks\u001b[0m\u001b[1;33m\u001b[0m\u001b[1;33m\u001b[0m\u001b[0m\n\u001b[0;32m   1526\u001b[0m                 or _global_forward_hooks or _global_forward_pre_hooks):\n\u001b[1;32m-> 1527\u001b[1;33m             \u001b[1;32mreturn\u001b[0m \u001b[0mforward_call\u001b[0m\u001b[1;33m(\u001b[0m\u001b[1;33m*\u001b[0m\u001b[0margs\u001b[0m\u001b[1;33m,\u001b[0m \u001b[1;33m**\u001b[0m\u001b[0mkwargs\u001b[0m\u001b[1;33m)\u001b[0m\u001b[1;33m\u001b[0m\u001b[1;33m\u001b[0m\u001b[0m\n\u001b[0m\u001b[0;32m   1528\u001b[0m \u001b[1;33m\u001b[0m\u001b[0m\n\u001b[0;32m   1529\u001b[0m         \u001b[1;32mtry\u001b[0m\u001b[1;33m:\u001b[0m\u001b[1;33m\u001b[0m\u001b[1;33m\u001b[0m\u001b[0m\n",
      "\u001b[1;32m~\\AppData\\Roaming\\Python\\Python39\\site-packages\\torch\\nn\\modules\\loss.py\u001b[0m in \u001b[0;36mforward\u001b[1;34m(self, input, target)\u001b[0m\n\u001b[0;32m   1177\u001b[0m \u001b[1;33m\u001b[0m\u001b[0m\n\u001b[0;32m   1178\u001b[0m     \u001b[1;32mdef\u001b[0m \u001b[0mforward\u001b[0m\u001b[1;33m(\u001b[0m\u001b[0mself\u001b[0m\u001b[1;33m,\u001b[0m \u001b[0minput\u001b[0m\u001b[1;33m:\u001b[0m \u001b[0mTensor\u001b[0m\u001b[1;33m,\u001b[0m \u001b[0mtarget\u001b[0m\u001b[1;33m:\u001b[0m \u001b[0mTensor\u001b[0m\u001b[1;33m)\u001b[0m \u001b[1;33m->\u001b[0m \u001b[0mTensor\u001b[0m\u001b[1;33m:\u001b[0m\u001b[1;33m\u001b[0m\u001b[1;33m\u001b[0m\u001b[0m\n\u001b[1;32m-> 1179\u001b[1;33m         return F.cross_entropy(input, target, weight=self.weight,\n\u001b[0m\u001b[0;32m   1180\u001b[0m                                \u001b[0mignore_index\u001b[0m\u001b[1;33m=\u001b[0m\u001b[0mself\u001b[0m\u001b[1;33m.\u001b[0m\u001b[0mignore_index\u001b[0m\u001b[1;33m,\u001b[0m \u001b[0mreduction\u001b[0m\u001b[1;33m=\u001b[0m\u001b[0mself\u001b[0m\u001b[1;33m.\u001b[0m\u001b[0mreduction\u001b[0m\u001b[1;33m,\u001b[0m\u001b[1;33m\u001b[0m\u001b[1;33m\u001b[0m\u001b[0m\n\u001b[0;32m   1181\u001b[0m                                label_smoothing=self.label_smoothing)\n",
      "\u001b[1;32m~\\AppData\\Roaming\\Python\\Python39\\site-packages\\torch\\nn\\functional.py\u001b[0m in \u001b[0;36mcross_entropy\u001b[1;34m(input, target, weight, size_average, ignore_index, reduce, reduction, label_smoothing)\u001b[0m\n\u001b[0;32m   3051\u001b[0m     \u001b[1;32mif\u001b[0m \u001b[0msize_average\u001b[0m \u001b[1;32mis\u001b[0m \u001b[1;32mnot\u001b[0m \u001b[1;32mNone\u001b[0m \u001b[1;32mor\u001b[0m \u001b[0mreduce\u001b[0m \u001b[1;32mis\u001b[0m \u001b[1;32mnot\u001b[0m \u001b[1;32mNone\u001b[0m\u001b[1;33m:\u001b[0m\u001b[1;33m\u001b[0m\u001b[1;33m\u001b[0m\u001b[0m\n\u001b[0;32m   3052\u001b[0m         \u001b[0mreduction\u001b[0m \u001b[1;33m=\u001b[0m \u001b[0m_Reduction\u001b[0m\u001b[1;33m.\u001b[0m\u001b[0mlegacy_get_string\u001b[0m\u001b[1;33m(\u001b[0m\u001b[0msize_average\u001b[0m\u001b[1;33m,\u001b[0m \u001b[0mreduce\u001b[0m\u001b[1;33m)\u001b[0m\u001b[1;33m\u001b[0m\u001b[1;33m\u001b[0m\u001b[0m\n\u001b[1;32m-> 3053\u001b[1;33m     \u001b[1;32mreturn\u001b[0m \u001b[0mtorch\u001b[0m\u001b[1;33m.\u001b[0m\u001b[0m_C\u001b[0m\u001b[1;33m.\u001b[0m\u001b[0m_nn\u001b[0m\u001b[1;33m.\u001b[0m\u001b[0mcross_entropy_loss\u001b[0m\u001b[1;33m(\u001b[0m\u001b[0minput\u001b[0m\u001b[1;33m,\u001b[0m \u001b[0mtarget\u001b[0m\u001b[1;33m,\u001b[0m \u001b[0mweight\u001b[0m\u001b[1;33m,\u001b[0m \u001b[0m_Reduction\u001b[0m\u001b[1;33m.\u001b[0m\u001b[0mget_enum\u001b[0m\u001b[1;33m(\u001b[0m\u001b[0mreduction\u001b[0m\u001b[1;33m)\u001b[0m\u001b[1;33m,\u001b[0m \u001b[0mignore_index\u001b[0m\u001b[1;33m,\u001b[0m \u001b[0mlabel_smoothing\u001b[0m\u001b[1;33m)\u001b[0m\u001b[1;33m\u001b[0m\u001b[1;33m\u001b[0m\u001b[0m\n\u001b[0m\u001b[0;32m   3054\u001b[0m \u001b[1;33m\u001b[0m\u001b[0m\n\u001b[0;32m   3055\u001b[0m \u001b[1;33m\u001b[0m\u001b[0m\n",
      "\u001b[1;31mRuntimeError\u001b[0m: 0D or 1D target tensor expected, multi-target not supported"
     ]
    }
   ],
   "source": [
    "best_model = None\n",
    "best_score = 0\n",
    "\n",
    "# Train Loop\n",
    "#for params in ParameterGrid(param_grid): # use if experimenting with different hyper parameter configurations\n",
    "for params in [param_grid]:\n",
    "    # Build model with current hyperparameters\n",
    "    model = MLP(input_size=X_train.shape[1],\n",
    "                hidden_layer_sizes=params['hidden_layer_sizes'],\n",
    "                output_size=len(np.unique(y_train)),\n",
    "                activation=params['activation']).to(device)\n",
    "\n",
    "    # Define loss function and optimizer\n",
    "    criterion = nn.CrossEntropyLoss()\n",
    "    optimizer = optim.SGD(model.parameters(), lr=params['learning_rate_init'], momentum=momentum, weight_decay=params['alpha'])\n",
    "    \n",
    "    # Train the model\n",
    "    train_model(model, optimizer, criterion, train_loader, num_epochs=num_epochs)\n",
    "    \n",
    "    # Evaluate on test set\n",
    "    test_loss, test_accuracy, outputs = evaluate_model(model, criterion, test_loader)\n",
    "    \n",
    "    # Track the best performing model\n",
    "    if test_accuracy > best_score:\n",
    "        best_score = test_accuracy\n",
    "        best_model = model\n",
    "        best_params = params\n",
    "\n",
    "# Evaluate final model\n",
    "train_loss, train_accuracy, _ = evaluate_model(best_model, criterion, train_loader)\n",
    "\n",
    "# Save predictions for confusion matrix\n",
    "test_loss, test_accuracy, predictions = evaluate_model(best_model, criterion, test_loader) \n",
    "\n",
    "results = {\n",
    "    \"params\": best_params,\n",
    "    \"train loss\":  train_loss,\n",
    "    \"train accuracy\": train_accuracy,\n",
    "    \"test loss\": test_loss,\n",
    "    \"test accuracy\": test_accuracy\n",
    "}"
   ]
  },
  {
   "cell_type": "markdown",
   "metadata": {
    "application/vnd.databricks.v1+cell": {
     "cellMetadata": {
      "byteLimit": 2048000,
      "rowLimit": 10000
     },
     "inputWidgets": {},
     "nuid": "5f77aae4-4fdd-4f54-b720-852ab37b093c",
     "showTitle": false,
     "title": ""
    }
   },
   "source": [
    "## Results"
   ]
  },
  {
   "cell_type": "code",
   "execution_count": 0,
   "metadata": {
    "application/vnd.databricks.v1+cell": {
     "cellMetadata": {
      "byteLimit": 2048000,
      "rowLimit": 10000
     },
     "inputWidgets": {},
     "nuid": "bd16bbda-27c2-4d48-8ec3-8087f796ae9b",
     "showTitle": false,
     "title": ""
    }
   },
   "outputs": [
    {
     "name": "stdout",
     "output_type": "stream",
     "text": [
      "Best params: {'learning_rate_init': array(0.001), 'alpha': array(0), 'activation': ['tanh'], 'hidden_layer_sizes': [12011]}\n",
      "Final Train Accuracy: 0.8107916666666667\n",
      "Final Test Accuracy: 0.8201666666666667\n"
     ]
    }
   ],
   "source": [
    "best_params = results[\"params\"]\n",
    "final_train_accuracy = results[\"train accuracy\"]\n",
    "final_test_accuracy = results[\"test accuracy\"]\n",
    "\n",
    "print(f\"Best params: {best_params}\")\n",
    "print(f\"Final Train Accuracy: {train_accuracy*100}%\")\n",
    "print(f\"Final Test Accuracy: {test_accuracy*100}%\")"
   ]
  },
  {
   "cell_type": "markdown",
   "metadata": {
    "application/vnd.databricks.v1+cell": {
     "cellMetadata": {
      "byteLimit": 2048000,
      "rowLimit": 10000
     },
     "inputWidgets": {},
     "nuid": "e421e659-ea31-45f8-99bf-ca57f562f776",
     "showTitle": false,
     "title": ""
    }
   },
   "source": [
    "### Confusion Matrix\n",
    "\n",
    "Accuracy can be misleading on imbalanced datasets.  A confusion matrix shows the breakdown of true positives, true negatives, false positives, and false negatives.\n",
    "\n",
    "<img\n",
    "  src ='https://i.ibb.co/dmBHnNV/conf-mat.png'\n",
    "  alt = \"conf_mat.png\"\n",
    "  width=\"300\" \n",
    "  height=\"256\"\n",
    "/>"
   ]
  },
  {
   "cell_type": "code",
   "execution_count": 0,
   "metadata": {
    "application/vnd.databricks.v1+cell": {
     "cellMetadata": {
      "byteLimit": 2048000,
      "rowLimit": 10000
     },
     "inputWidgets": {},
     "nuid": "e876caf6-f6cc-40a0-a0a9-dcc0dd5369c0",
     "showTitle": false,
     "title": ""
    }
   },
   "outputs": [
    {
     "data": {
      "text/plain": [
       "<sklearn.metrics._plot.confusion_matrix.ConfusionMatrixDisplay at 0x7f3a6f3c9bd0>"
      ]
     },
     "execution_count": 90,
     "metadata": {},
     "output_type": "execute_result"
    },
    {
     "data": {
      "image/png": "[encoded data removed]",
      "text/plain": [
       "<Figure size 640x480 with 2 Axes>"
      ]
     },
     "metadata": {},
     "output_type": "display_data"
    }
   ],
   "source": [
    "from sklearn.metrics import confusion_matrix, ConfusionMatrixDisplay\n",
    "\n",
    "cm = confusion_matrix(y_test, predictions)\n",
    "ConfusionMatrixDisplay(cm).plot()"
   ]
  },
  {
   "cell_type": "markdown",
   "metadata": {
    "application/vnd.databricks.v1+cell": {
     "cellMetadata": {
      "byteLimit": 2048000,
      "rowLimit": 10000
     },
     "inputWidgets": {},
     "nuid": "6bdb4531-bb06-47eb-bbad-9b4947111243",
     "showTitle": false,
     "title": ""
    }
   },
   "source": [
    "From the above figure, it can be observed that the model has a bias toward false positives.  This makes sense given the dataset ratio between default (22%) and non-default (77%) data points.  As a result, the model might benefit from a more balanced dataset.  However, there are other tweaks that can be made to the training pipeline such as stratified cross-validation which ensures that the class distribution is consistent across training and test sets. This prevents overfitting to the majority class, which can sometimes lead to a high false positive rate."
   ]
  }
 ],
 "metadata": {
  "application/vnd.databricks.v1+notebook": {
   "dashboards": [],
   "environmentMetadata": null,
   "language": "python",
   "notebookMetadata": {
    "pythonIndentUnit": 4
   },
   "notebookName": "PyTorch ML Demo",
   "widgets": {}
  },
  "kernelspec": {
   "display_name": "base",
   "language": "python",
   "name": "python3"
  },
  "language_info": {
   "codemirror_mode": {
    "name": "ipython",
    "version": 3
   },
   "file_extension": ".py",
   "mimetype": "text/x-python",
   "name": "python",
   "nbconvert_exporter": "python",
   "pygments_lexer": "ipython3",
   "version": "3.9.13"
  }
 },
 "nbformat": 4,
 "nbformat_minor": 0
}
